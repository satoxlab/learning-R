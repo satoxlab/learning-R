{
  "nbformat": 4,
  "nbformat_minor": 0,
  "metadata": {
    "colab": {
      "provenance": [],
      "authorship_tag": "ABX9TyOm1ts980f20DYFBAUYzha9"
    },
    "kernelspec": {
      "name": "ir",
      "display_name": "R"
    },
    "language_info": {
      "name": "R"
    }
  },
  "cells": [
    {
      "cell_type": "markdown",
      "source": [
        "パッケージのインストール\n",
        "\n",
        "<img src='https://drive.google.com/uc?id=15IZYeymIuHAGlWk8FI-E7bPY2o_-bx_H'>"
      ],
      "metadata": {
        "id": "PuiUEhW0TVA_"
      }
    },
    {
      "cell_type": "code",
      "source": [],
      "metadata": {
        "id": "InR_zampXY8O"
      },
      "execution_count": null,
      "outputs": []
    },
    {
      "cell_type": "markdown",
      "source": [
        "パッケージの読み込み\n",
        "<img src='https://drive.google.com/uc?id=1Nk5V0hu8mQQNVYCn4XHGlRfniJv1xmVr'>"
      ],
      "metadata": {
        "id": "zYQmpIwVTVNN"
      }
    },
    {
      "cell_type": "code",
      "source": [],
      "metadata": {
        "id": "uDDmyy4NXZof"
      },
      "execution_count": null,
      "outputs": []
    },
    {
      "cell_type": "markdown",
      "source": [
        "ファイルのセットアップ。この箇所は各自でファイル名やディレクトリ名が異なるので注意。\n",
        "<img src='https://drive.google.com/uc?id=1rdBkA1WIaFX7fRnKTsyNXLAnuQNSvZ8Z'>"
      ],
      "metadata": {
        "id": "PSXgx_iXTVVC"
      }
    },
    {
      "cell_type": "code",
      "source": [],
      "metadata": {
        "id": "K87hFW1cXasv"
      },
      "execution_count": null,
      "outputs": []
    },
    {
      "cell_type": "markdown",
      "source": [
        "fastaファイルの読み込みと文字列処理\n",
        "<img src='https://drive.google.com/uc?id=10yoKTfiQeUoyvurfMbQRq1YiFxXQbe90'>"
      ],
      "metadata": {
        "id": "0Fdu-t8GTVYq"
      }
    },
    {
      "cell_type": "code",
      "source": [],
      "metadata": {
        "id": "sl8jXuSJXb2R"
      },
      "execution_count": null,
      "outputs": []
    },
    {
      "cell_type": "markdown",
      "source": [
        "<img src='https://drive.google.com/uc?id=1t3lqOQOzMiLV37r3lZjUkrGOBSlrjK23'>"
      ],
      "metadata": {
        "id": "TfDzxx_mTVck"
      }
    },
    {
      "cell_type": "code",
      "source": [],
      "metadata": {
        "id": "Uou7WJ2DXcte"
      },
      "execution_count": null,
      "outputs": []
    },
    {
      "cell_type": "markdown",
      "source": [
        " 他の入力ファイルも同様に処理する\n",
        "<img src='https://drive.google.com/uc?id=1Fo7B4XUEXcrTzIrl3N2wGnBU6kRMRYnf'>"
      ],
      "metadata": {
        "id": "pWTQeAeLTVgQ"
      }
    },
    {
      "cell_type": "code",
      "source": [],
      "metadata": {
        "id": "wEvk9h_TWOaX"
      },
      "execution_count": null,
      "outputs": []
    },
    {
      "cell_type": "markdown",
      "source": [
        "`grep` を使った文字列検索\n",
        "<img src='https://drive.google.com/uc?id=1he76kfKfemzj7rdI372RdwrS7CdQxYyW'>\n"
      ],
      "metadata": {
        "id": "gAgVuyBHWPhf"
      }
    },
    {
      "cell_type": "code",
      "source": [],
      "metadata": {
        "id": "EPfqYLr_Xd02"
      },
      "execution_count": null,
      "outputs": []
    },
    {
      "cell_type": "markdown",
      "source": [
        "関数を作って使う\n",
        "<img src='https://drive.google.com/uc?id=1AefK9s3VWIl4GiiPg1Ht6SHziZAqOnwz'>"
      ],
      "metadata": {
        "id": "l5lNCQ3MTVj6"
      }
    },
    {
      "cell_type": "code",
      "source": [],
      "metadata": {
        "id": "jbqrsOXtXe0K"
      },
      "execution_count": null,
      "outputs": []
    },
    {
      "cell_type": "markdown",
      "source": [
        "行列データを作る、ループ制御を使う\n",
        "<img src='https://drive.google.com/uc?id=1dIYV2YJ1qoK3vTWa1tSAIesdL_L6mR8X'>"
      ],
      "metadata": {
        "id": "gbzXFUdyTVnj"
      }
    },
    {
      "cell_type": "code",
      "source": [],
      "metadata": {
        "id": "xoKdDcJ2Xf6Q"
      },
      "execution_count": null,
      "outputs": []
    },
    {
      "cell_type": "markdown",
      "source": [
        " ループ制御を使って行列からデータを抽出し、可視化する\n",
        "<img src='https://drive.google.com/uc?id=1hYtyVVYXDXfHm3XC3O1bmR5RcUMjp60s'>"
      ],
      "metadata": {
        "id": "UWIqrXxdW7Tg"
      }
    },
    {
      "cell_type": "code",
      "source": [],
      "metadata": {
        "id": "uhB0RBMgXg6Z"
      },
      "execution_count": null,
      "outputs": []
    },
    {
      "cell_type": "markdown",
      "source": [
        "ループ制御を使って行列データを修正し、得られた遺伝子ファミリーの各タンパク質配列をファイルへの書き出す。\n",
        "<img src='https://drive.google.com/uc?id=1w7iG1-B2vcBt4UfaDM27MUhyLy6490Qb'>"
      ],
      "metadata": {
        "id": "hbR_LTlhTVrb"
      }
    },
    {
      "cell_type": "code",
      "source": [],
      "metadata": {
        "id": "Po-lXl8ZINx2"
      },
      "execution_count": null,
      "outputs": []
    }
  ]
}